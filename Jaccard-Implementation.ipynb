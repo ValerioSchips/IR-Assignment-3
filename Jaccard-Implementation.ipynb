{
 "cells": [
  {
   "cell_type": "markdown",
   "metadata": {
    "id": "RAJo-Joxjwv_"
   },
   "source": [
    "# Locality Sensitive Hashing"
   ]
  },
  {
   "cell_type": "code",
   "execution_count": null,
   "metadata": {},
   "outputs": [],
   "source": [
    "import pandas as pd\n",
    "from tqdm import tqdm\n",
    "tqdm.pandas()"
   ]
  },
  {
   "cell_type": "code",
   "execution_count": null,
   "metadata": {
    "id": "sOmD2gPPjwv_"
   },
   "outputs": [],
   "source": [
    "import numpy as np"
   ]
  },
  {
   "cell_type": "code",
   "execution_count": null,
   "metadata": {},
   "outputs": [],
   "source": [
    "articles = pd.read_csv('preproc_art_small.csv')"
   ]
  },
  {
   "cell_type": "markdown",
   "metadata": {},
   "source": [
    "# Calculate Jaccard Similarity"
   ]
  },
  {
   "cell_type": "code",
   "execution_count": null,
   "metadata": {},
   "outputs": [],
   "source": [
    "def jaccard(text1, text2): # Function to calculate jaccard similarity\n",
    "    tokens1 = set(str(text1).split()) \n",
    "    tokens2 = set(str(text2).split())\n",
    "    return float(len(tokens1.intersection(tokens2)) / len(tokens1.union(tokens2)))"
   ]
  },
  {
   "cell_type": "code",
   "execution_count": null,
   "metadata": {},
   "outputs": [],
   "source": [
    "list_docs = list(articles.News_ID)"
   ]
  },
  {
   "cell_type": "code",
   "execution_count": null,
   "metadata": {},
   "outputs": [],
   "source": [
    "sim_matrix = np.zeros((len(list_docs),len(list_docs)))"
   ]
  },
  {
   "cell_type": "code",
   "execution_count": null,
   "metadata": {},
   "outputs": [],
   "source": [
    "for doc_id in tqdm(range(len(list_docs))): #Creates a matrix doc x docs which contains the similarity between documents\n",
    "    for com_doc in range(doc_id+1, len(list_docs)):\n",
    "        sim = 0\n",
    "        if doc_id == 999:\n",
    "            break\n",
    "        sim = jaccard(articles.iloc[com_doc, 1], articles.iloc[doc_id, 1])\n",
    "        sim_matrix[com_doc,doc_id] = sim"
   ]
  },
  {
   "cell_type": "code",
   "execution_count": null,
   "metadata": {},
   "outputs": [],
   "source": [
    "print(sim_matrix.shape)"
   ]
  },
  {
   "cell_type": "code",
   "execution_count": null,
   "metadata": {},
   "outputs": [],
   "source": [
    "print(len(np.argwhere((sim_matrix >= 0.1) & (sim_matrix < 0.2))))"
   ]
  },
  {
   "cell_type": "code",
   "execution_count": null,
   "metadata": {},
   "outputs": [],
   "source": [
    "# Insert in final_sum for each similarity range (e.g., 0.0 - 0.1, ...) the count of pairs in that range\n",
    "final_sum = []\n",
    "step = 0.1\n",
    "sim_range = np.arange(0.0, 1.0, step)\n",
    "for sim_step in sim_range:\n",
    "    next_step = sim_step + step\n",
    "    if sim_step == 0.0:\n",
    "        elems = np.argwhere((sim_matrix >= sim_step) & (sim_matrix < next_step))\n",
    "        #elems = list(set([item for sublist in elems for item in sublist]))\n",
    "        final_sum.append(len(elems) - 499500)\n",
    "        continue\n",
    "    elems = np.argwhere((sim_matrix >= sim_step) & (sim_matrix < next_step))\n",
    "    #elems = list(set([item for sublist in elems for item in sublist]))\n",
    "    final_sum.append(len(elems))\n"
   ]
  },
  {
   "cell_type": "code",
   "execution_count": null,
   "metadata": {},
   "outputs": [],
   "source": [
    "import matplotlib.pyplot as plt\n",
    "\n",
    "x = [0,10,20,30,40,50,60,70,80,90]\n",
    "y = final_sum\n",
    "\n",
    "fig = plt.figure(figsize = (10, 5))\n",
    "# creating the bar plot\n",
    "plt.bar(x, y, color ='blue', width = 9.5, align='edge', log=10)\n",
    " \n",
    "plt.xlabel(\"Similarity\")\n",
    "plt.ylabel(\"No. of Documents\")\n",
    "plt.title(\"Documents Similarity\")\n",
    "for v in range(len(final_sum)):\n",
    "    plt.text(x[v]+3.5, np.log10(y[v])*9, str(final_sum[v]), color='orange', fontweight='bold', rotation = 90, size = 20)\n",
    "\n",
    "plt.show()"
   ]
  },
  {
   "cell_type": "code",
   "execution_count": null,
   "metadata": {},
   "outputs": [],
   "source": [
    "np.save('g_truth', sim_matrix)"
   ]
  }
 ],
 "metadata": {
  "interpreter": {
   "hash": "19649b6d477f04954267d7dfcc1e3219afd53992c8847ec6a09d5cd5145b7914"
  },
  "kernelspec": {
   "display_name": "Python 3.8.3 64-bit ('base': conda)",
   "language": "python",
   "name": "python3"
  },
  "language_info": {
   "codemirror_mode": {
    "name": "ipython",
    "version": 3
   },
   "file_extension": ".py",
   "mimetype": "text/x-python",
   "name": "python",
   "nbconvert_exporter": "python",
   "pygments_lexer": "ipython3",
   "version": "3.8.3"
  },
  "orig_nbformat": 4
 },
 "nbformat": 4,
 "nbformat_minor": 2
}
